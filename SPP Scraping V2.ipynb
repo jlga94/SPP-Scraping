{
 "cells": [
  {
   "cell_type": "code",
   "execution_count": 63,
   "metadata": {
    "collapsed": true
   },
   "outputs": [],
   "source": [
    "# 0. Libraries\n",
    "from selenium import webdriver\n",
    "from selenium.webdriver.firefox.options import Options"
   ]
  },
  {
   "cell_type": "code",
   "execution_count": 84,
   "metadata": {},
   "outputs": [
    {
     "data": {
      "text/plain": [
       "True"
      ]
     },
     "execution_count": 84,
     "metadata": {},
     "output_type": "execute_result"
    }
   ],
   "source": [
    "#1. Access\n",
    "from time import sleep\n",
    "\n",
    "browser = webdriver.Firefox()\n",
    "url = \"https://www.sbs.gob.pe/app/spp/Reporte_Sit_Prev/afil_existe.asp\"\n",
    "browser.get(url)\n",
    "sleep(2.5)\n",
    "browser.save_screenshot('screenshot.png')"
   ]
  },
  {
   "cell_type": "code",
   "execution_count": 85,
   "metadata": {},
   "outputs": [
    {
     "data": {
      "text/plain": [
       "True"
      ]
     },
     "execution_count": 85,
     "metadata": {},
     "output_type": "execute_result"
    }
   ],
   "source": [
    "#2. Catch the Captcha \n",
    "\n",
    "import cv2\n",
    "\n",
    "img = cv2.imread('screenshot.png',0)\n",
    "\n",
    "crop_img = img[282:282+43, 335:335+167]\n",
    "crop_img2 = img[855:855+43, 370:370+167]\n",
    "\n",
    "cv2.imwrite('captchaA.jpg',crop_img)\n",
    "cv2.imwrite('captchaB.jpg',crop_img2)"
   ]
  },
  {
   "cell_type": "code",
   "execution_count": 86,
   "metadata": {},
   "outputs": [
    {
     "name": "stdout",
     "output_type": "stream",
     "text": [
      "1702\n"
     ]
    }
   ],
   "source": [
    "#3. Read captcha image\n",
    "from PIL import Image, ImageEnhance, ImageFilter\n",
    "import pytesseract\n",
    "\n",
    "image = cv2.imread('captchaA.jpg')\n",
    "gray = cv2.cvtColor(image, cv2.COLOR_BGR2GRAY)\n",
    "gray = cv2.threshold(gray, 0, 255, cv2.THRESH_BINARY | cv2.THRESH_OTSU)[1]\n",
    "cv2.imwrite('captchaA.jpg', gray)\n",
    "\n",
    "image = cv2.imread('captchaB.jpg')\n",
    "gray = cv2.cvtColor(image, cv2.COLOR_BGR2GRAY)\n",
    "gray = cv2.threshold(gray, 0, 255, cv2.THRESH_BINARY | cv2.THRESH_OTSU)[1]\n",
    "cv2.imwrite('captchaB.jpg', gray)\n",
    "\n",
    "imA = Image.open('captchaA.jpg')\n",
    "imB = Image.open('captchaB.jpg')\n",
    "\n",
    "enhancerA = ImageEnhance.Contrast(imA)\n",
    "enhancerB = ImageEnhance.Contrast(imB)\n",
    "\n",
    "imA = enhancerA.enhance(50)\n",
    "imB = enhancerB.enhance(50)\n",
    "\n",
    "captchaA = pytesseract.image_to_string(imA, config='0123456789')\n",
    "captchaB = pytesseract.image_to_string(imB, config='0123456789')\n",
    "\n",
    "if(captchaA == captchaB):\n",
    "    captcha = captchaA\n",
    "else:\n",
    "    captcha = 1\n",
    "\n",
    "print(captcha)    "
   ]
  },
  {
   "cell_type": "code",
   "execution_count": 87,
   "metadata": {
    "collapsed": true
   },
   "outputs": [],
   "source": [
    "#4. Getting form\n",
    "num_doc = browser.find_element_by_id(\"num_doc\")\n",
    "strCAPTCHA = browser.find_element_by_id(\"strCAPTCHA\")\n",
    "tip_Doc = browser.find_element_by_name(\"tip_doc\")"
   ]
  },
  {
   "cell_type": "code",
   "execution_count": 88,
   "metadata": {
    "collapsed": true
   },
   "outputs": [],
   "source": [
    "#5. Filling form\n",
    "num_doc.send_keys(\"77068833\")\n",
    "strCAPTCHA.send_keys(captcha)\n",
    "tip_Doc.send_keys(\"00\")"
   ]
  },
  {
   "cell_type": "code",
   "execution_count": 89,
   "metadata": {
    "collapsed": true
   },
   "outputs": [],
   "source": [
    "#6. Sending form\n",
    "cmdEnviar = browser.find_element_by_name(\"cmdEnviar\") \n",
    "cmdEnviar.click()"
   ]
  },
  {
   "cell_type": "code",
   "execution_count": 90,
   "metadata": {},
   "outputs": [
    {
     "name": "stdout",
     "output_type": "stream",
     "text": [
      "Información al : 12/02/2018 16:38:01\n",
      "DNI/Lib.Electoral  77068833\n",
      "28/02/2017\n",
      "Habitat\n",
      "28/02/2017\n",
      "22/10/1994\n",
      "646271JGALI8\n",
      "Afiliado\n",
      "Com.Mixta/Saldo\n",
      "12/2017\n"
     ]
    }
   ],
   "source": [
    "#7. Getting result\n",
    "results = browser.find_elements_by_class_name('APLI_txtActualizado_Rep')\n",
    "for x in results:\n",
    "    print(x.text)"
   ]
  },
  {
   "cell_type": "code",
   "execution_count": 83,
   "metadata": {
    "collapsed": true
   },
   "outputs": [],
   "source": [
    "#8. Exit\n",
    "browser.quit()"
   ]
  },
  {
   "cell_type": "code",
   "execution_count": null,
   "metadata": {
    "collapsed": true
   },
   "outputs": [],
   "source": []
  },
  {
   "cell_type": "code",
   "execution_count": null,
   "metadata": {
    "collapsed": true
   },
   "outputs": [],
   "source": []
  }
 ],
 "metadata": {
  "kernelspec": {
   "display_name": "Python 3",
   "language": "python",
   "name": "python3"
  },
  "language_info": {
   "codemirror_mode": {
    "name": "ipython",
    "version": 3
   },
   "file_extension": ".py",
   "mimetype": "text/x-python",
   "name": "python",
   "nbconvert_exporter": "python",
   "pygments_lexer": "ipython3",
   "version": "3.6.1"
  }
 },
 "nbformat": 4,
 "nbformat_minor": 2
}
