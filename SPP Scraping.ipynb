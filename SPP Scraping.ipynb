{
 "cells": [
  {
   "cell_type": "code",
   "execution_count": 33,
   "metadata": {},
   "outputs": [
    {
     "name": "stdout",
     "output_type": "stream",
     "text": [
      "Collecting selenium\n",
      "  Downloading selenium-3.9.0-py2.py3-none-any.whl (942kB)\n",
      "\u001b[K    100% |████████████████████████████████| 952kB 175kB/s ta 0:00:011\n",
      "\u001b[?25hInstalling collected packages: selenium\n",
      "Successfully installed selenium-3.9.0\n"
     ]
    }
   ],
   "source": [
    "!pip install selenium"
   ]
  },
  {
   "cell_type": "code",
   "execution_count": 34,
   "metadata": {
    "collapsed": true
   },
   "outputs": [],
   "source": [
    "from selenium import webdrive"
   ]
  },
  {
   "cell_type": "code",
   "execution_count": 45,
   "metadata": {
    "collapsed": true
   },
   "outputs": [],
   "source": [
    "import os\n",
    "cwd = os.getcwd()"
   ]
  },
  {
   "cell_type": "code",
   "execution_count": 40,
   "metadata": {},
   "outputs": [
    {
     "data": {
      "text/plain": [
       "'/Users/antoniocachuan/Documents/Proyectos/Notebooks'"
      ]
     },
     "execution_count": 40,
     "metadata": {},
     "output_type": "execute_result"
    }
   ],
   "source": [
    "cwd"
   ]
  },
  {
   "cell_type": "code",
   "execution_count": 156,
   "metadata": {
    "collapsed": true
   },
   "outputs": [],
   "source": [
    "from selenium import webdriver\n",
    "from selenium.webdriver.firefox.options import Options\n",
    "\n",
    "options = Options()\n",
    "options.add_argument(\"--headless\")\n",
    "\n",
    "browser = webdriver.Firefox(firefox_options=options) #replace with .Firefox(), or with the browser of your choice\n",
    "url = \"https://www.sbs.gob.pe/app/spp/Reporte_Sit_Prev/afil_existe.asp\"\n",
    "browser.get(url) #navigate to the page\n",
    "\n",
    "\n",
    "browser.quit()"
   ]
  },
  {
   "cell_type": "code",
   "execution_count": 17,
   "metadata": {
    "collapsed": true
   },
   "outputs": [],
   "source": [
    "from selenium import webdriver\n",
    "from selenium.webdriver.firefox.options import Options"
   ]
  },
  {
   "cell_type": "code",
   "execution_count": 18,
   "metadata": {
    "collapsed": true
   },
   "outputs": [],
   "source": [
    "browser = webdriver.Firefox() #replace with .Firefox(), or with the browser of your choice\n",
    "url = \"https://www.sbs.gob.pe/app/spp/Reporte_Sit_Prev/afil_existe.asp\"\n",
    "browser.get(url) #navigate to the page"
   ]
  },
  {
   "cell_type": "code",
   "execution_count": 26,
   "metadata": {},
   "outputs": [
    {
     "name": "stdout",
     "output_type": "stream",
     "text": [
      "Collecting opencv-python\n",
      "  Downloading opencv_python-3.4.0.12-cp36-cp36m-macosx_10_6_intel.macosx_10_9_intel.macosx_10_9_x86_64.macosx_10_10_intel.macosx_10_10_x86_64.whl (41.2MB)\n",
      "\u001b[K    100% |████████████████████████████████| 41.2MB 7.3kB/s ta 0:00:011    46% |███████████████                 | 19.2MB 787kB/s eta 0:00:28    57% |██████████████████▍             | 23.7MB 1.8MB/s eta 0:00:10\n",
      "\u001b[?25hRequirement already satisfied: numpy>=1.11.1 in /anaconda/lib/python3.6/site-packages (from opencv-python)\n",
      "Installing collected packages: opencv-python\n",
      "Successfully installed opencv-python-3.4.0.12\n"
     ]
    }
   ],
   "source": [
    "!pip install opencv-python\n",
    "!pip install pillow"
   ]
  },
  {
   "cell_type": "code",
   "execution_count": 30,
   "metadata": {},
   "outputs": [
    {
     "name": "stdout",
     "output_type": "stream",
     "text": [
      "Requirement already satisfied: pytesseract in /anaconda/lib/python3.6/site-packages\r\n",
      "Requirement already satisfied: Pillow in /anaconda/lib/python3.6/site-packages (from pytesseract)\r\n",
      "Requirement already satisfied: olefile in /anaconda/lib/python3.6/site-packages (from Pillow->pytesseract)\r\n"
     ]
    }
   ],
   "source": [
    "!pip install pytesseract"
   ]
  },
  {
   "cell_type": "code",
   "execution_count": 12,
   "metadata": {},
   "outputs": [
    {
     "name": "stdout",
     "output_type": "stream",
     "text": [
      "Collecting tesseract\n",
      "Installing collected packages: tesseract\n",
      "Successfully installed tesseract-0.1.3\n"
     ]
    }
   ],
   "source": [
    "!pip install tesseract"
   ]
  },
  {
   "cell_type": "code",
   "execution_count": 7,
   "metadata": {},
   "outputs": [
    {
     "data": {
      "text/plain": [
       "True"
      ]
     },
     "execution_count": 7,
     "metadata": {},
     "output_type": "execute_result"
    }
   ],
   "source": [
    "import cv2\n",
    "\n",
    "img = cv2.imread('screenshot.png',0)\n",
    "\n",
    "crop_img = img[282:282+43, 335:335+167]\n",
    "crop_img2 = img[855:855+43, 370:370+167]\n",
    "\n",
    "cv2.imwrite('captcha.jpg',crop_img)\n",
    "cv2.imwrite('captcha2.jpg',crop_img2)\n"
   ]
  },
  {
   "cell_type": "code",
   "execution_count": 11,
   "metadata": {},
   "outputs": [
    {
     "name": "stdout",
     "output_type": "stream",
     "text": [
      "Resampling the Image\n",
      "Extracted Text 1303\n"
     ]
    }
   ],
   "source": [
    "import pytesseract\n",
    "import sys\n",
    "import argparse\n",
    "try:\n",
    "    import Image\n",
    "except ImportError:\n",
    "    from PIL import Image\n",
    "from subprocess import check_output\n",
    "\n",
    "path = 'captcha.jpg'\n",
    "\n",
    "print(\"Resampling the Image\")\n",
    "captcha_text = pytesseract.image_to_string(Image.open('captcha.jpg'))\n",
    "\n",
    "print('Extracted Text',captcha_text)"
   ]
  },
  {
   "cell_type": "code",
   "execution_count": 68,
   "metadata": {},
   "outputs": [
    {
     "name": "stdout",
     "output_type": "stream",
     "text": [
      "721s\n"
     ]
    }
   ],
   "source": [
    "from PIL import Image, ImageEnhance, ImageFilter\n",
    "import pytesseract\n",
    "\n",
    "im = Image.open('captchaB.jpg')\n",
    "\n",
    "im = im.resize((167*4, 43*4))\n",
    "\n",
    "enhancer = ImageEnhance.Contrast(im)\n",
    "\n",
    "im2 = enhancer.enhance(50)\n",
    "\n",
    "\n",
    "image = im2.convert('RGB')\n",
    "image2 = image.filter(ImageFilter.BLUR)\n",
    "\n",
    "\n",
    "enhancer2 = ImageEnhance.Contrast(image2)\n",
    "\n",
    "image3 = enhancer.enhance(10)\n",
    "\n",
    "image3.show()\n",
    "\n",
    "text = pytesseract.image_to_string(out)\n",
    "\n",
    "\n",
    "#type(text)\n",
    "print(text)\n"
   ]
  },
  {
   "cell_type": "code",
   "execution_count": 94,
   "metadata": {},
   "outputs": [
    {
     "name": "stdout",
     "output_type": "stream",
     "text": [
      "7215\n"
     ]
    }
   ],
   "source": [
    "image = cv2.imread('captchaB.jpg')\n",
    "gray = cv2.cvtColor(image, cv2.COLOR_BGR2GRAY)\n",
    "\n",
    "\n",
    "gray = cv2.threshold(gray, 0, 255, cv2.THRESH_BINARY | cv2.THRESH_OTSU)[1]\n",
    "\n",
    "cv2.imwrite('captchaC.jpg', gray)\n",
    "\n",
    "im = Image.open('captchaC.jpg')\n",
    "im = im.resize((167*1, 43*1))\n",
    "\n",
    "enhancer = ImageEnhance.Contrast(im)\n",
    "\n",
    "im2 = enhancer.enhance(10)\n",
    "\n",
    "im2.show()\n",
    "\n",
    "text = pytesseract.image_to_string(im2, config='0123456789')\n",
    "print(text)"
   ]
  },
  {
   "cell_type": "code",
   "execution_count": 3,
   "metadata": {},
   "outputs": [
    {
     "name": "stdout",
     "output_type": "stream",
     "text": [
      "captcha.asp\n",
      "captcha.asp\n"
     ]
    }
   ],
   "source": [
    "#https://www.sbs.gob.pe/app/spp/Reporte_Sit_Prev/captcha.asp\n",
    "from bs4 import BeautifulSoup\n",
    "html = browser.page_source\n",
    "soup = BeautifulSoup(html, 'html.parser')\n",
    "\n",
    "images = soup.findAll('img')\n",
    "for image in images:\n",
    "    print(image['src'])\n",
    "    \n"
   ]
  },
  {
   "cell_type": "code",
   "execution_count": 16,
   "metadata": {
    "collapsed": true
   },
   "outputs": [],
   "source": [
    "import requests\n",
    "from os.path  import basename\n",
    "lnk = \"https://www.sbs.gob.pe/app/spp/Reporte_Sit_Prev/captcha.asp\"\n",
    "with open(basename(lnk), \"wb\") as f:\n",
    "    f.write(requests.get(lnk).content)\n",
    "\n"
   ]
  },
  {
   "cell_type": "code",
   "execution_count": 4,
   "metadata": {
    "collapsed": true
   },
   "outputs": [],
   "source": [
    "num_doc = browser.find_element_by_id(\"num_doc\")\n",
    "strCAPTCHA = browser.find_element_by_id(\"strCAPTCHA\")\n",
    "tip_Doc = browser.find_element_by_name(\"tip_doc\")"
   ]
  },
  {
   "cell_type": "code",
   "execution_count": 8,
   "metadata": {},
   "outputs": [
    {
     "ename": "StaleElementReferenceException",
     "evalue": "Message: The element reference of <input id=\"num_doc\" class=\"APLI_campo\" name=\"num_doc\" type=\"number\"> is stale; either the element is no longer attached to the DOM, it is not in the current frame context, or the document has been refreshed\n",
     "output_type": "error",
     "traceback": [
      "\u001b[0;31m---------------------------------------------------------------------------\u001b[0m",
      "\u001b[0;31mStaleElementReferenceException\u001b[0m            Traceback (most recent call last)",
      "\u001b[0;32m<ipython-input-8-ea75b2c1113d>\u001b[0m in \u001b[0;36m<module>\u001b[0;34m()\u001b[0m\n\u001b[0;32m----> 1\u001b[0;31m \u001b[0mnum_doc\u001b[0m\u001b[0;34m.\u001b[0m\u001b[0msend_keys\u001b[0m\u001b[0;34m(\u001b[0m\u001b[0;34m\"08455135\"\u001b[0m\u001b[0;34m)\u001b[0m\u001b[0;34m\u001b[0m\u001b[0m\n\u001b[0m\u001b[1;32m      2\u001b[0m \u001b[0mstrCAPTCHA\u001b[0m\u001b[0;34m.\u001b[0m\u001b[0msend_keys\u001b[0m\u001b[0;34m(\u001b[0m\u001b[0;34m\"5193\"\u001b[0m\u001b[0;34m)\u001b[0m\u001b[0;34m\u001b[0m\u001b[0m\n\u001b[1;32m      3\u001b[0m \u001b[0mtip_Doc\u001b[0m\u001b[0;34m.\u001b[0m\u001b[0msend_keys\u001b[0m\u001b[0;34m(\u001b[0m\u001b[0;34m\"00\"\u001b[0m\u001b[0;34m)\u001b[0m\u001b[0;34m\u001b[0m\u001b[0m\n",
      "\u001b[0;32m/anaconda/lib/python3.6/site-packages/selenium/webdriver/remote/webelement.py\u001b[0m in \u001b[0;36msend_keys\u001b[0;34m(self, *value)\u001b[0m\n\u001b[1;32m    477\u001b[0m         self._execute(Command.SEND_KEYS_TO_ELEMENT,\n\u001b[1;32m    478\u001b[0m                       {'text': \"\".join(keys_to_typing(value)),\n\u001b[0;32m--> 479\u001b[0;31m                        'value': keys_to_typing(value)})\n\u001b[0m\u001b[1;32m    480\u001b[0m \u001b[0;34m\u001b[0m\u001b[0m\n\u001b[1;32m    481\u001b[0m     \u001b[0;31m# RenderedWebElement Items\u001b[0m\u001b[0;34m\u001b[0m\u001b[0;34m\u001b[0m\u001b[0m\n",
      "\u001b[0;32m/anaconda/lib/python3.6/site-packages/selenium/webdriver/remote/webelement.py\u001b[0m in \u001b[0;36m_execute\u001b[0;34m(self, command, params)\u001b[0m\n\u001b[1;32m    626\u001b[0m             \u001b[0mparams\u001b[0m \u001b[0;34m=\u001b[0m \u001b[0;34m{\u001b[0m\u001b[0;34m}\u001b[0m\u001b[0;34m\u001b[0m\u001b[0m\n\u001b[1;32m    627\u001b[0m         \u001b[0mparams\u001b[0m\u001b[0;34m[\u001b[0m\u001b[0;34m'id'\u001b[0m\u001b[0;34m]\u001b[0m \u001b[0;34m=\u001b[0m \u001b[0mself\u001b[0m\u001b[0;34m.\u001b[0m\u001b[0m_id\u001b[0m\u001b[0;34m\u001b[0m\u001b[0m\n\u001b[0;32m--> 628\u001b[0;31m         \u001b[0;32mreturn\u001b[0m \u001b[0mself\u001b[0m\u001b[0;34m.\u001b[0m\u001b[0m_parent\u001b[0m\u001b[0;34m.\u001b[0m\u001b[0mexecute\u001b[0m\u001b[0;34m(\u001b[0m\u001b[0mcommand\u001b[0m\u001b[0;34m,\u001b[0m \u001b[0mparams\u001b[0m\u001b[0;34m)\u001b[0m\u001b[0;34m\u001b[0m\u001b[0m\n\u001b[0m\u001b[1;32m    629\u001b[0m \u001b[0;34m\u001b[0m\u001b[0m\n\u001b[1;32m    630\u001b[0m     \u001b[0;32mdef\u001b[0m \u001b[0mfind_element\u001b[0m\u001b[0;34m(\u001b[0m\u001b[0mself\u001b[0m\u001b[0;34m,\u001b[0m \u001b[0mby\u001b[0m\u001b[0;34m=\u001b[0m\u001b[0mBy\u001b[0m\u001b[0;34m.\u001b[0m\u001b[0mID\u001b[0m\u001b[0;34m,\u001b[0m \u001b[0mvalue\u001b[0m\u001b[0;34m=\u001b[0m\u001b[0;32mNone\u001b[0m\u001b[0;34m)\u001b[0m\u001b[0;34m:\u001b[0m\u001b[0;34m\u001b[0m\u001b[0m\n",
      "\u001b[0;32m/anaconda/lib/python3.6/site-packages/selenium/webdriver/remote/webdriver.py\u001b[0m in \u001b[0;36mexecute\u001b[0;34m(self, driver_command, params)\u001b[0m\n\u001b[1;32m    310\u001b[0m         \u001b[0mresponse\u001b[0m \u001b[0;34m=\u001b[0m \u001b[0mself\u001b[0m\u001b[0;34m.\u001b[0m\u001b[0mcommand_executor\u001b[0m\u001b[0;34m.\u001b[0m\u001b[0mexecute\u001b[0m\u001b[0;34m(\u001b[0m\u001b[0mdriver_command\u001b[0m\u001b[0;34m,\u001b[0m \u001b[0mparams\u001b[0m\u001b[0;34m)\u001b[0m\u001b[0;34m\u001b[0m\u001b[0m\n\u001b[1;32m    311\u001b[0m         \u001b[0;32mif\u001b[0m \u001b[0mresponse\u001b[0m\u001b[0;34m:\u001b[0m\u001b[0;34m\u001b[0m\u001b[0m\n\u001b[0;32m--> 312\u001b[0;31m             \u001b[0mself\u001b[0m\u001b[0;34m.\u001b[0m\u001b[0merror_handler\u001b[0m\u001b[0;34m.\u001b[0m\u001b[0mcheck_response\u001b[0m\u001b[0;34m(\u001b[0m\u001b[0mresponse\u001b[0m\u001b[0;34m)\u001b[0m\u001b[0;34m\u001b[0m\u001b[0m\n\u001b[0m\u001b[1;32m    313\u001b[0m             response['value'] = self._unwrap_value(\n\u001b[1;32m    314\u001b[0m                 response.get('value', None))\n",
      "\u001b[0;32m/anaconda/lib/python3.6/site-packages/selenium/webdriver/remote/errorhandler.py\u001b[0m in \u001b[0;36mcheck_response\u001b[0;34m(self, response)\u001b[0m\n\u001b[1;32m    240\u001b[0m                 \u001b[0malert_text\u001b[0m \u001b[0;34m=\u001b[0m \u001b[0mvalue\u001b[0m\u001b[0;34m[\u001b[0m\u001b[0;34m'alert'\u001b[0m\u001b[0;34m]\u001b[0m\u001b[0;34m.\u001b[0m\u001b[0mget\u001b[0m\u001b[0;34m(\u001b[0m\u001b[0;34m'text'\u001b[0m\u001b[0;34m)\u001b[0m\u001b[0;34m\u001b[0m\u001b[0m\n\u001b[1;32m    241\u001b[0m             \u001b[0;32mraise\u001b[0m \u001b[0mexception_class\u001b[0m\u001b[0;34m(\u001b[0m\u001b[0mmessage\u001b[0m\u001b[0;34m,\u001b[0m \u001b[0mscreen\u001b[0m\u001b[0;34m,\u001b[0m \u001b[0mstacktrace\u001b[0m\u001b[0;34m,\u001b[0m \u001b[0malert_text\u001b[0m\u001b[0;34m)\u001b[0m\u001b[0;34m\u001b[0m\u001b[0m\n\u001b[0;32m--> 242\u001b[0;31m         \u001b[0;32mraise\u001b[0m \u001b[0mexception_class\u001b[0m\u001b[0;34m(\u001b[0m\u001b[0mmessage\u001b[0m\u001b[0;34m,\u001b[0m \u001b[0mscreen\u001b[0m\u001b[0;34m,\u001b[0m \u001b[0mstacktrace\u001b[0m\u001b[0;34m)\u001b[0m\u001b[0;34m\u001b[0m\u001b[0m\n\u001b[0m\u001b[1;32m    243\u001b[0m \u001b[0;34m\u001b[0m\u001b[0m\n\u001b[1;32m    244\u001b[0m     \u001b[0;32mdef\u001b[0m \u001b[0m_value_or_default\u001b[0m\u001b[0;34m(\u001b[0m\u001b[0mself\u001b[0m\u001b[0;34m,\u001b[0m \u001b[0mobj\u001b[0m\u001b[0;34m,\u001b[0m \u001b[0mkey\u001b[0m\u001b[0;34m,\u001b[0m \u001b[0mdefault\u001b[0m\u001b[0;34m)\u001b[0m\u001b[0;34m:\u001b[0m\u001b[0;34m\u001b[0m\u001b[0m\n",
      "\u001b[0;31mStaleElementReferenceException\u001b[0m: Message: The element reference of <input id=\"num_doc\" class=\"APLI_campo\" name=\"num_doc\" type=\"number\"> is stale; either the element is no longer attached to the DOM, it is not in the current frame context, or the document has been refreshed\n"
     ]
    }
   ],
   "source": [
    "num_doc.send_keys(\"71528743\")\n",
    "strCAPTCHA.send_keys(\"5193\")\n",
    "tip_Doc.send_keys(\"00\")"
   ]
  },
  {
   "cell_type": "code",
   "execution_count": 9,
   "metadata": {
    "collapsed": true
   },
   "outputs": [],
   "source": [
    "cmdEnviar = browser.find_element_by_name(\"cmdEnviar\") \n",
    "cmdEnviar.click()"
   ]
  },
  {
   "cell_type": "code",
   "execution_count": 10,
   "metadata": {
    "collapsed": true
   },
   "outputs": [],
   "source": [
    "results = browser.find_elements_by_class_name('APLI_txtActualizado_Rep')"
   ]
  },
  {
   "cell_type": "code",
   "execution_count": 11,
   "metadata": {},
   "outputs": [
    {
     "name": "stdout",
     "output_type": "stream",
     "text": [
      "Información al : 12/02/2018 09:33:59\n",
      "DNI/Lib.Electoral  71528743\n",
      "18/06/2015\n",
      "Habitat\n",
      "18/06/2015\n",
      "07/02/1993\n",
      "640051ACAHP9\n",
      "Afiliado\n",
      "Com.Mixta/Saldo\n",
      "12/2017\n"
     ]
    }
   ],
   "source": [
    "for x in results:\n",
    "    print(x.text)"
   ]
  },
  {
   "cell_type": "code",
   "execution_count": 42,
   "metadata": {},
   "outputs": [
    {
     "ename": "NameError",
     "evalue": "name 'browser' is not defined",
     "output_type": "error",
     "traceback": [
      "\u001b[0;31m---------------------------------------------------------------------------\u001b[0m",
      "\u001b[0;31mNameError\u001b[0m                                 Traceback (most recent call last)",
      "\u001b[0;32m<ipython-input-42-2888d0b6de2b>\u001b[0m in \u001b[0;36m<module>\u001b[0;34m()\u001b[0m\n\u001b[0;32m----> 1\u001b[0;31m \u001b[0mbrowser\u001b[0m\u001b[0;34m.\u001b[0m\u001b[0mquit\u001b[0m\u001b[0;34m(\u001b[0m\u001b[0;34m)\u001b[0m\u001b[0;34m\u001b[0m\u001b[0m\n\u001b[0m",
      "\u001b[0;31mNameError\u001b[0m: name 'browser' is not defined"
     ]
    }
   ],
   "source": [
    "browser.quit()"
   ]
  },
  {
   "cell_type": "code",
   "execution_count": 174,
   "metadata": {
    "collapsed": true
   },
   "outputs": [],
   "source": [
    "from bs4 import BeautifulSoup\n",
    "html = browser.page_source\n",
    "soup = BeautifulSoup(html, 'html.parser')"
   ]
  },
  {
   "cell_type": "code",
   "execution_count": 177,
   "metadata": {},
   "outputs": [
    {
     "name": "stdout",
     "output_type": "stream",
     "text": [
      "../../plantillas/images/Logo horizontal chico.jpg\n"
     ]
    }
   ],
   "source": [
    "#https://www.sbs.gob.pe/app/spp/Reporte_Sit_Prev/captcha.asp\n",
    "images = soup.findAll('img')\n",
    "for image in images:\n",
    "    print(image['src'])"
   ]
  },
  {
   "cell_type": "code",
   "execution_count": 127,
   "metadata": {
    "collapsed": true
   },
   "outputs": [],
   "source": [
    "import pytesseract\n",
    "import sys\n",
    "import argparse"
   ]
  },
  {
   "cell_type": "code",
   "execution_count": 128,
   "metadata": {},
   "outputs": [
    {
     "ename": "ValueError",
     "evalue": "invalid PNG header",
     "output_type": "error",
     "traceback": [
      "\u001b[0;31m---------------------------------------------------------------------------\u001b[0m",
      "\u001b[0;31mValueError\u001b[0m                                Traceback (most recent call last)",
      "\u001b[0;32m<ipython-input-128-7cc2528a1ff6>\u001b[0m in \u001b[0;36m<module>\u001b[0;34m()\u001b[0m\n\u001b[1;32m      1\u001b[0m \u001b[0;32mimport\u001b[0m \u001b[0mmatplotlib\u001b[0m\u001b[0;34m.\u001b[0m\u001b[0mpyplot\u001b[0m \u001b[0;32mas\u001b[0m \u001b[0mplt\u001b[0m\u001b[0;34m\u001b[0m\u001b[0m\n\u001b[1;32m      2\u001b[0m \u001b[0;32mimport\u001b[0m \u001b[0mmatplotlib\u001b[0m\u001b[0;34m.\u001b[0m\u001b[0mimage\u001b[0m \u001b[0;32mas\u001b[0m \u001b[0mmpimg\u001b[0m\u001b[0;34m\u001b[0m\u001b[0m\n\u001b[0;32m----> 3\u001b[0;31m \u001b[0mimg\u001b[0m\u001b[0;34m=\u001b[0m\u001b[0mmpimg\u001b[0m\u001b[0;34m.\u001b[0m\u001b[0mimread\u001b[0m\u001b[0;34m(\u001b[0m\u001b[0;34m'https://www.sbs.gob.pe/app/spp/Reporte_Sit_Prev/captcha.asp'\u001b[0m\u001b[0;34m)\u001b[0m\u001b[0;34m\u001b[0m\u001b[0m\n\u001b[0m\u001b[1;32m      4\u001b[0m \u001b[0mimgplot\u001b[0m \u001b[0;34m=\u001b[0m \u001b[0mplt\u001b[0m\u001b[0;34m.\u001b[0m\u001b[0mimshow\u001b[0m\u001b[0;34m(\u001b[0m\u001b[0mimg\u001b[0m\u001b[0;34m)\u001b[0m\u001b[0;34m\u001b[0m\u001b[0m\n\u001b[1;32m      5\u001b[0m \u001b[0mplt\u001b[0m\u001b[0;34m.\u001b[0m\u001b[0mshow\u001b[0m\u001b[0;34m(\u001b[0m\u001b[0;34m)\u001b[0m\u001b[0;34m\u001b[0m\u001b[0m\n",
      "\u001b[0;32m/anaconda/lib/python3.6/site-packages/matplotlib/image.py\u001b[0m in \u001b[0;36mimread\u001b[0;34m(fname, format)\u001b[0m\n\u001b[1;32m   1293\u001b[0m         \u001b[0;32mif\u001b[0m \u001b[0mlen\u001b[0m\u001b[0;34m(\u001b[0m\u001b[0mparsed\u001b[0m\u001b[0;34m.\u001b[0m\u001b[0mscheme\u001b[0m\u001b[0;34m)\u001b[0m \u001b[0;34m>\u001b[0m \u001b[0;36m1\u001b[0m\u001b[0;34m:\u001b[0m\u001b[0;34m\u001b[0m\u001b[0m\n\u001b[1;32m   1294\u001b[0m             \u001b[0mfd\u001b[0m \u001b[0;34m=\u001b[0m \u001b[0mBytesIO\u001b[0m\u001b[0;34m(\u001b[0m\u001b[0murlopen\u001b[0m\u001b[0;34m(\u001b[0m\u001b[0mfname\u001b[0m\u001b[0;34m)\u001b[0m\u001b[0;34m.\u001b[0m\u001b[0mread\u001b[0m\u001b[0;34m(\u001b[0m\u001b[0;34m)\u001b[0m\u001b[0;34m)\u001b[0m\u001b[0;34m\u001b[0m\u001b[0m\n\u001b[0;32m-> 1295\u001b[0;31m             \u001b[0;32mreturn\u001b[0m \u001b[0mhandler\u001b[0m\u001b[0;34m(\u001b[0m\u001b[0mfd\u001b[0m\u001b[0;34m)\u001b[0m\u001b[0;34m\u001b[0m\u001b[0m\n\u001b[0m\u001b[1;32m   1296\u001b[0m         \u001b[0;32melse\u001b[0m\u001b[0;34m:\u001b[0m\u001b[0;34m\u001b[0m\u001b[0m\n\u001b[1;32m   1297\u001b[0m             \u001b[0;32mwith\u001b[0m \u001b[0mopen\u001b[0m\u001b[0;34m(\u001b[0m\u001b[0mfname\u001b[0m\u001b[0;34m,\u001b[0m \u001b[0;34m'rb'\u001b[0m\u001b[0;34m)\u001b[0m \u001b[0;32mas\u001b[0m \u001b[0mfd\u001b[0m\u001b[0;34m:\u001b[0m\u001b[0;34m\u001b[0m\u001b[0m\n",
      "\u001b[0;31mValueError\u001b[0m: invalid PNG header"
     ]
    }
   ],
   "source": [
    "import matplotlib.pyplot as plt\n",
    "import matplotlib.image as mpimg\n",
    "img=mpimg.imread('https://www.sbs.gob.pe/app/spp/Reporte_Sit_Prev/captcha.asp')\n",
    "imgplot = plt.imshow(img)\n",
    "plt.show()"
   ]
  },
  {
   "cell_type": "code",
   "execution_count": 140,
   "metadata": {
    "collapsed": true
   },
   "outputs": [],
   "source": [
    "\n",
    "browser.quit()"
   ]
  },
  {
   "cell_type": "code",
   "execution_count": 1,
   "metadata": {
    "collapsed": true
   },
   "outputs": [],
   "source": [
    "import requests\n",
    "import time\n",
    "import random\n",
    "from bs4 import BeautifulSoup\n",
    "import pandas as pd"
   ]
  },
  {
   "cell_type": "code",
   "execution_count": 29,
   "metadata": {
    "collapsed": true
   },
   "outputs": [],
   "source": [
    "headers = {'User-Agent': 'Mozilla/5.0 (Windows NT 6.1; WOW64) AppleWebKit/537.36 (KHTML, like Gecko) Chrome/56.0.2924.76 Safari/537.36'}\n",
    "url = \"https://www.sbs.gob.pe/app/spp/Reporte_Sit_Prev/afil_existe.asp\""
   ]
  },
  {
   "cell_type": "code",
   "execution_count": 24,
   "metadata": {
    "collapsed": true
   },
   "outputs": [],
   "source": [
    "cookies = {'ASPSESSIONIDQCDTTBRB':'JLICEEJCBAEGEBCFFEEEGJOB','BIGipServerpool-http-web-sbs-x64': '1075078340.20480.0000', 'dnn_IsMobile' : 'False', 'language':'es-ES'}"
   ]
  },
  {
   "cell_type": "code",
   "execution_count": 31,
   "metadata": {
    "collapsed": true
   },
   "outputs": [],
   "source": [
    "cookies = \"TScf604314_75=TScf604314_rc=1&TScf604314_id=2&TScf604314_cr=0848f53169ab280055cfccc5ef31a14c42ec45f4794d9f05278d3721870d16fd6b741d4471ad71df5f7364522cab2ac9:081b6c67ec032000ff024d667a029bbba89d69c60ce0bf5d31b0a24b5aab64a409ed6e2bf7327c2a&TScf604314_ef=0848f53169ab280055cfccc5ef31a14c42ec45f4794d9f05278d3721870d16fd6b741d4471ad71df5f7364522cab2ac9081b6c67ec08a800f111299b4140dbee858eb04e1b030e59caef6d938f78e17203230eff29de4674cf1f440424f1183a8fa9bfce2bdc48e187e259cd83c82b96c40e34fd76cb0849a11bc03448dd4f3bd9597eb352082a5b7abe84c6923f24bafe40b7bb87bf2b6e8b107a528b4c225ea7e21171138dc168f833bd2dcbb657f58681708fde6d7d2d0aa701f80276afc555da3b6fc91bbfcddaa6fbad7781040688fd0c0b3289f7c8e64f1edd449c3033&TScf604314_pg=0&TScf604314_ct=0&TScf604314_rf=0; TS9fa603d0_27=0848f53169ab2000338abf7cd033d53d0230ab7c3a1f4b3a892da76f5b9ffe3c5be1ebacdb1e1eeb08cca9d0e30920001f84c9e1a4f2c7746ae3d2556b636bf58318cb41718d483b11ced9187cb0e326; TS9fa603d0_76=0848f53169ab28005495e74f714aab1761d49249dce41331a78d81b480ccef8dfddf697eb66b9be548faf2af0c4be00b08530554d307e800d74496fb67adcf887e168622cb7da01a630a4b658022f28ce54a515f211f17e60d4076c7a72495b8395a938adeb82cd12367054f0bb213950f4674c077ea544f83b49b891d39f44e8d6a134b7468a676fc80f882fae360f18021706ac826087cb2c962651062847483b54da63fedc9fdef8aea683fdad8b90adbc879d160b0860ba7e803d0492ab2d5e0337073758fa1375e4a2d58b786fbf9f1c692e0c9cbe81303a3ff588014f7e967696be21536bc5bc6f776ff7f29f225c9745da215edc80c443636de44bbefcc074d90d26c18f80a94a25bb5846954e3cb519f010c938c9f4fcd9bb75fd4ee; TSPD_101=0848f53169ab280055cfccc5ef31a14c42ec45f4794d9f05278d3721870d16fd6b741d4471ad71df5f7364522cab2ac9:; dnn_IsMobile=False; language=es-ES; .ASPXANONYMOUS=3rioTp0fYR1AXDALsmFxF28zcUqbQA-eR-6gRUy5Ij6Kk88XzK1gNvJi2w6bB3xuCbr_eAkKr7muS3bMXL1Ls4DWVcFFQdQfM9u1D0wJxewF7QHT0; BIGipServerpool-http-web-sbs-x64=1075078340.20480.0000; TS01593f69=019955ae16c0c288f94a99a6397e16e4abeeeed83fa7fd6443974f3addf5981178020ed043f633d2772b6b503e3d7edf002628deaafd9263a9489367ab7247206a6c2f9abbed5e8cdce3e9eeb8f0bde8e5d28dee9664322680da7f7f86b3cb58e4365523c2b2d70f5bee9cf3184f9d3f8e7fdc5f5a16fedf4ddbb241f4e49aa91fa9c48d15; __utma=197714925.2089501097.1518188488.1518188488.1518188488.1; __utmb=197714925.2.10.1518188488; __utmc=197714925; __utmz=197714925.1518188488.1.1.utmcsr=google|utmccn=(organic)|utmcmd=organic|utmctr=(not%20provided); TS0bfa78fe_27=0848f53169ab2000837f5c9eb6ce2ee8fcbe0dfbe9e9fd0e23519f0d8ae387e4df7b1bc4a4ca018308052fb258092000ae50e53206f84b6ab7fd61814a75d73cb87d61b34cafad93a3dd65c928599388; TS0bfa78fe_76=0848f53169ab280055cfccc5ef31a14c42ec45f4794d9f05278d3721870d16fd6b741d4471ad71df5f7364522cab2ac9081b6c67ec07e800bef73d4f288b4215c15cf273e443905d6b16d23e067618cef0cf582c73334f92614b6e387213e88985502b829afadf1c5c1f7704618a9112eec8167f42c3df891d6bc6a97e4e96f94c8603498c0c068ed2056799474dd7ad5de2e2fda698693e9368ab31f7bef6ad0694ae1a70c66cee26fbb9bec5706388b851f3ed2269ab8400d18239dc3b25626e50b515a0fb7cb5ec910a9343bdc7ff244efae66bd0941f937623f43e54f944dc5a706ac9232c510cf61ee947f7e978a4d367860f2c19565cf5a261460883adb683c8e6b180db13f728e4d7d15f2addc8abb9b76379d72da70cd2180702ea7b; ASPSESSIONIDQCDTTBRB=JLICEEJCBAEGEBCFFEEEGJOB; _ga=GA1.3.2089501097.1518188488; _gid=GA1.3.2026420733.1518188502; TS01593f69_77=0848f53169ab28005ab5f096eba5e4230e2fae581415e1cce831f1f112d98ae540ee23befeaedd3f5a051e206097105408c5d65fda8238004e92a49bd62379fa03a5d11e19291b16ed0671de7d6f431bfd36d1ad48fa97d540a6f0720f19938498727ab63ba8d1a1da9b9172ad2eebdb\"\n",
    "\n",
    "\n"
   ]
  },
  {
   "cell_type": "code",
   "execution_count": 32,
   "metadata": {},
   "outputs": [
    {
     "ename": "TypeError",
     "evalue": "string indices must be integers",
     "output_type": "error",
     "traceback": [
      "\u001b[0;31m---------------------------------------------------------------------------\u001b[0m",
      "\u001b[0;31mTypeError\u001b[0m                                 Traceback (most recent call last)",
      "\u001b[0;32m<ipython-input-32-06af10483e63>\u001b[0m in \u001b[0;36m<module>\u001b[0;34m()\u001b[0m\n\u001b[0;32m----> 1\u001b[0;31m \u001b[0mhtml_text\u001b[0m \u001b[0;34m=\u001b[0m \u001b[0mrequests\u001b[0m\u001b[0;34m.\u001b[0m\u001b[0mpost\u001b[0m\u001b[0;34m(\u001b[0m\u001b[0murl\u001b[0m\u001b[0;34m,\u001b[0m \u001b[0mheaders\u001b[0m \u001b[0;34m=\u001b[0m \u001b[0mheaders\u001b[0m\u001b[0;34m,\u001b[0m \u001b[0mcookies\u001b[0m \u001b[0;34m=\u001b[0m \u001b[0mcookies\u001b[0m\u001b[0;34m)\u001b[0m\u001b[0;34m.\u001b[0m\u001b[0mtext\u001b[0m\u001b[0;34m\u001b[0m\u001b[0m\n\u001b[0m",
      "\u001b[0;32m/anaconda/lib/python3.6/site-packages/requests/api.py\u001b[0m in \u001b[0;36mpost\u001b[0;34m(url, data, json, **kwargs)\u001b[0m\n\u001b[1;32m    110\u001b[0m     \"\"\"\n\u001b[1;32m    111\u001b[0m \u001b[0;34m\u001b[0m\u001b[0m\n\u001b[0;32m--> 112\u001b[0;31m     \u001b[0;32mreturn\u001b[0m \u001b[0mrequest\u001b[0m\u001b[0;34m(\u001b[0m\u001b[0;34m'post'\u001b[0m\u001b[0;34m,\u001b[0m \u001b[0murl\u001b[0m\u001b[0;34m,\u001b[0m \u001b[0mdata\u001b[0m\u001b[0;34m=\u001b[0m\u001b[0mdata\u001b[0m\u001b[0;34m,\u001b[0m \u001b[0mjson\u001b[0m\u001b[0;34m=\u001b[0m\u001b[0mjson\u001b[0m\u001b[0;34m,\u001b[0m \u001b[0;34m**\u001b[0m\u001b[0mkwargs\u001b[0m\u001b[0;34m)\u001b[0m\u001b[0;34m\u001b[0m\u001b[0m\n\u001b[0m\u001b[1;32m    113\u001b[0m \u001b[0;34m\u001b[0m\u001b[0m\n\u001b[1;32m    114\u001b[0m \u001b[0;34m\u001b[0m\u001b[0m\n",
      "\u001b[0;32m/anaconda/lib/python3.6/site-packages/requests/api.py\u001b[0m in \u001b[0;36mrequest\u001b[0;34m(method, url, **kwargs)\u001b[0m\n\u001b[1;32m     56\u001b[0m     \u001b[0;31m# cases, and look like a memory leak in others.\u001b[0m\u001b[0;34m\u001b[0m\u001b[0;34m\u001b[0m\u001b[0m\n\u001b[1;32m     57\u001b[0m     \u001b[0;32mwith\u001b[0m \u001b[0msessions\u001b[0m\u001b[0;34m.\u001b[0m\u001b[0mSession\u001b[0m\u001b[0;34m(\u001b[0m\u001b[0;34m)\u001b[0m \u001b[0;32mas\u001b[0m \u001b[0msession\u001b[0m\u001b[0;34m:\u001b[0m\u001b[0;34m\u001b[0m\u001b[0m\n\u001b[0;32m---> 58\u001b[0;31m         \u001b[0;32mreturn\u001b[0m \u001b[0msession\u001b[0m\u001b[0;34m.\u001b[0m\u001b[0mrequest\u001b[0m\u001b[0;34m(\u001b[0m\u001b[0mmethod\u001b[0m\u001b[0;34m=\u001b[0m\u001b[0mmethod\u001b[0m\u001b[0;34m,\u001b[0m \u001b[0murl\u001b[0m\u001b[0;34m=\u001b[0m\u001b[0murl\u001b[0m\u001b[0;34m,\u001b[0m \u001b[0;34m**\u001b[0m\u001b[0mkwargs\u001b[0m\u001b[0;34m)\u001b[0m\u001b[0;34m\u001b[0m\u001b[0m\n\u001b[0m\u001b[1;32m     59\u001b[0m \u001b[0;34m\u001b[0m\u001b[0m\n\u001b[1;32m     60\u001b[0m \u001b[0;34m\u001b[0m\u001b[0m\n",
      "\u001b[0;32m/anaconda/lib/python3.6/site-packages/requests/sessions.py\u001b[0m in \u001b[0;36mrequest\u001b[0;34m(self, method, url, params, data, headers, cookies, files, auth, timeout, allow_redirects, proxies, hooks, stream, verify, cert, json)\u001b[0m\n\u001b[1;32m    502\u001b[0m             \u001b[0mhooks\u001b[0m \u001b[0;34m=\u001b[0m \u001b[0mhooks\u001b[0m\u001b[0;34m,\u001b[0m\u001b[0;34m\u001b[0m\u001b[0m\n\u001b[1;32m    503\u001b[0m         )\n\u001b[0;32m--> 504\u001b[0;31m         \u001b[0mprep\u001b[0m \u001b[0;34m=\u001b[0m \u001b[0mself\u001b[0m\u001b[0;34m.\u001b[0m\u001b[0mprepare_request\u001b[0m\u001b[0;34m(\u001b[0m\u001b[0mreq\u001b[0m\u001b[0;34m)\u001b[0m\u001b[0;34m\u001b[0m\u001b[0m\n\u001b[0m\u001b[1;32m    505\u001b[0m \u001b[0;34m\u001b[0m\u001b[0m\n\u001b[1;32m    506\u001b[0m         \u001b[0mproxies\u001b[0m \u001b[0;34m=\u001b[0m \u001b[0mproxies\u001b[0m \u001b[0;32mor\u001b[0m \u001b[0;34m{\u001b[0m\u001b[0;34m}\u001b[0m\u001b[0;34m\u001b[0m\u001b[0m\n",
      "\u001b[0;32m/anaconda/lib/python3.6/site-packages/requests/sessions.py\u001b[0m in \u001b[0;36mprepare_request\u001b[0;34m(self, request)\u001b[0m\n\u001b[1;32m    412\u001b[0m         \u001b[0;31m# Bootstrap CookieJar.\u001b[0m\u001b[0;34m\u001b[0m\u001b[0;34m\u001b[0m\u001b[0m\n\u001b[1;32m    413\u001b[0m         \u001b[0;32mif\u001b[0m \u001b[0;32mnot\u001b[0m \u001b[0misinstance\u001b[0m\u001b[0;34m(\u001b[0m\u001b[0mcookies\u001b[0m\u001b[0;34m,\u001b[0m \u001b[0mcookielib\u001b[0m\u001b[0;34m.\u001b[0m\u001b[0mCookieJar\u001b[0m\u001b[0;34m)\u001b[0m\u001b[0;34m:\u001b[0m\u001b[0;34m\u001b[0m\u001b[0m\n\u001b[0;32m--> 414\u001b[0;31m             \u001b[0mcookies\u001b[0m \u001b[0;34m=\u001b[0m \u001b[0mcookiejar_from_dict\u001b[0m\u001b[0;34m(\u001b[0m\u001b[0mcookies\u001b[0m\u001b[0;34m)\u001b[0m\u001b[0;34m\u001b[0m\u001b[0m\n\u001b[0m\u001b[1;32m    415\u001b[0m \u001b[0;34m\u001b[0m\u001b[0m\n\u001b[1;32m    416\u001b[0m         \u001b[0;31m# Merge with session cookies\u001b[0m\u001b[0;34m\u001b[0m\u001b[0;34m\u001b[0m\u001b[0m\n",
      "\u001b[0;32m/anaconda/lib/python3.6/site-packages/requests/cookies.py\u001b[0m in \u001b[0;36mcookiejar_from_dict\u001b[0;34m(cookie_dict, cookiejar, overwrite)\u001b[0m\n\u001b[1;32m    514\u001b[0m         \u001b[0;32mfor\u001b[0m \u001b[0mname\u001b[0m \u001b[0;32min\u001b[0m \u001b[0mcookie_dict\u001b[0m\u001b[0;34m:\u001b[0m\u001b[0;34m\u001b[0m\u001b[0m\n\u001b[1;32m    515\u001b[0m             \u001b[0;32mif\u001b[0m \u001b[0moverwrite\u001b[0m \u001b[0;32mor\u001b[0m \u001b[0;34m(\u001b[0m\u001b[0mname\u001b[0m \u001b[0;32mnot\u001b[0m \u001b[0;32min\u001b[0m \u001b[0mnames_from_jar\u001b[0m\u001b[0;34m)\u001b[0m\u001b[0;34m:\u001b[0m\u001b[0;34m\u001b[0m\u001b[0m\n\u001b[0;32m--> 516\u001b[0;31m                 \u001b[0mcookiejar\u001b[0m\u001b[0;34m.\u001b[0m\u001b[0mset_cookie\u001b[0m\u001b[0;34m(\u001b[0m\u001b[0mcreate_cookie\u001b[0m\u001b[0;34m(\u001b[0m\u001b[0mname\u001b[0m\u001b[0;34m,\u001b[0m \u001b[0mcookie_dict\u001b[0m\u001b[0;34m[\u001b[0m\u001b[0mname\u001b[0m\u001b[0;34m]\u001b[0m\u001b[0;34m)\u001b[0m\u001b[0;34m)\u001b[0m\u001b[0;34m\u001b[0m\u001b[0m\n\u001b[0m\u001b[1;32m    517\u001b[0m \u001b[0;34m\u001b[0m\u001b[0m\n\u001b[1;32m    518\u001b[0m     \u001b[0;32mreturn\u001b[0m \u001b[0mcookiejar\u001b[0m\u001b[0;34m\u001b[0m\u001b[0m\n",
      "\u001b[0;31mTypeError\u001b[0m: string indices must be integers"
     ]
    }
   ],
   "source": [
    "html_text = requests.post(url, headers = headers, cookies = cookies).text"
   ]
  },
  {
   "cell_type": "code",
   "execution_count": null,
   "metadata": {
    "collapsed": true
   },
   "outputs": [],
   "source": []
  },
  {
   "cell_type": "code",
   "execution_count": 28,
   "metadata": {},
   "outputs": [
    {
     "data": {
      "text/plain": [
       "'<html><head><meta http-equiv=\"Pragma\" content=\"no-cache\"/>\\r\\n<meta http-equiv=\"Expires\" content=\"-1\"/>\\r\\n<meta http-equiv=\"CacheControl\" content=\"no-cache\"/>\\r\\n<meta http-equiv=\"X-UA-Compatible\" content=\"IE=edge\"/>\\r\\n<meta http-equiv=\"Content-Type\" content=\"text/html; charset=utf-8\"/>\\r\\n<link rel=\"shortcut icon\" href=\"data:;base64,iVBORw0KGgo=\"/>\\r\\n\\r\\n<script>\\r\\n\\r\\n(function(){\\r\\n    var securemsg;\\r\\n    var dosl7_common;\\r\\n\\r\\nwindow[\"bobcmn\"] = \"111110101110102000000022000000052000000012cf604314200000096300000000300000000300000006/TSPD/300000008TSPD_101300000005https200000000200000000\";\\r\\n\\r\\nwindow.eNet=!!window.eNet;try{(function(){try{var zz,Zz,Sz=1,jz=1,Jz=1;for(var oz=0;oz<Zz;++oz)Sz+=2,jz+=2,Jz+=3;zz=Sz+jz+Jz;window.iO===zz&&(window.iO=++zz)}catch(zZ){window.iO=zz}var _Z=!0;function iZ(z){z&&(_Z=!1,document.cookie=\"brav=ad\");return _Z}function lZ(){}iZ(window[lZ.name]===lZ);iZ(\"function\"!==typeof ie9rgb4);iZ(/\\\\x3c/.test(function(){return\"\\\\x3c\"})&!/x3d/.test(function(){return\"\\'x3\\'+\\'d\\';\"}));\\nvar oZ=window.attachEvent||/mobi/i.test(window[\"\\\\x6e\\\\x61vi\\\\x67a\\\\x74\\\\x6f\\\\x72\"][\"\\\\x75\\\\x73e\\\\x72A\\\\x67\\\\x65\\\\x6et\"]),OZ=+new Date+6E5,_s,Os,zS=setTimeout,ZS=oZ?3E4:6E3;function sS(){if(!document.querySelector)return!0;var z=+new Date,S=z>OZ;if(S)return iZ(!1);S=Os&&_s+ZS<z;S=iZ(S);_s=z;Os||(Os=!0,zS(function(){Os=!1},1));return S}sS();var _S=[17795081,27611931586,1558153217];\\nfunction iS(z){z=\"string\"===typeof z?z:z.toString(36);var S=window[z];if(!S.toString)return;var J=\"\"+S;window[z]=function(z,J){Os=!1;return S(z,J)};window[z].toString=function(){return J}}for(var jS=0;jS<_S.length;++jS)iS(_S[jS]);iZ(!1!==window.eNet);(function(){3%_Z&&eval(function(z){z=z.split(\"l\");var S=\"\";for(var J=0;J<z.length;++J)S+=String.fromCharCode(z[J]);return S}(\"40l102l117l110l99l116l105l111l110l40l41l123l118l97l114l32l104l101l97l100l61l100l111l99l117l109l101l110l116l46l104l101l97l100l59l118l97l114l32l97l108l108l61l102l117l110l99l116l105l111l110l40l97l114l114l41l123l114l101l116l117l114l110l32l97l114l114l46l102l105l108l116l101l114l40l102l117l110l99l116l105l111l110l40l120l41l123l114l101l116l117l114l110l32l47l105l115l47l46l116l101l115l116l40l120l41l125l41l46l108l101l110l103l116l104l125l59l118l97l114l32l117l61l39l84l101l120l116l32l105l115l32l97l118l97l105l108l97l98l108l101l32l117l110l100l101l114l32l116l104l101l32l67l114l101l97l116l105l118l101l32l67l111l109l109l111l110l115l32l65l116l116l114l105l98l117l116l105l111l110l45l83l104l97l114l101l65l108l105l107l101l32l76l105l99l101l110l115l101l59l97l100l100l105l116l105l111l110l97l108l32l116l101l114l109l115l32l109l97l121l32l97l112l112l108l121l46l32l66l121l32l117l115l105l110l103l32l116l104l105l115l32l115l105l116l101l44l121l111l117l32l97l103l114l101l101l32l116l111l32l116l104l101l32l84l101l114l109l115l32l111l102l32l85l115l101l32l97l110l100l32l80l114l105l118l97l99l121l32l80l111l108l105l99l121l39l46l115l112l108l105l116l40l47l87l43l47l41l59l102l117l110l99l116l105l111l110l32l116l104l101l105l114l115l40l97l114l114l41l123l117l46l112l111l112l40l41l59l114l101l116l117l114l110l32l97l114l114l59l125l118l97l114l32l114l61l123l108l111l115l101l58l102l117l110l99l116l105l111l110l40l102l117l110l99l41l123l117l61l116l104l101l105l114l115l40l117l41l125l125l59l118l97l114l32l117l99l97l110l61l123l107l101l101l112l58l102l117l110l99l116l105l111l110l40l120l41l123l116l104l105l115l46l99l97l99l104l101l46l112l117l115l104l40l120l41l59l114l101l116l117l114l110l32l116l114l117l101l59l125l44l116l114l117l115l116l58l102l117l110l99l116l105l111l110l40l120l41l123l114l101l116l117l114l110l32l120l61l61l61l116l104l105l115l125l44l99l97l99l104l101l58l91l93l125l59l118l97l114l32l100l111l117l98l116l61l51l48l59l102l117l110l99l116l105l111l110l32l73l84l40l120l41l123l102l111l114l40l118l97l114l32l121l32l105l110l32l120l41l105l102l40l120l91l121l93l61l61l61l54l54l55l41l114l101l116l117l114l110l32l116l114l117l101l59l114l101l116l117l114l110l32l102l97l108l115l101l125l59l102l117l110l99l116l105l111l110l32l98l108l97l109l101l40l97l44l98l41l123l114l101l116l117l114l110l32l97l40l98l41l125l59l105l102l40l117l99l97l110l46l107l101l101l112l40l104l101l97l100l41l41l123l119l104l105l108l101l40l97l108l108l40l117l41l41l123l114l46l108l111l115l101l40l116l104l101l105l114l115l41l38l38l98l108l97l109l101l40l73l84l44l117l41l59l125l125l125l41l40l41\"))})();\\nvar JS=44;window.os={Zs:\"08a0eec6030178000c3e8bd3842491c75e501ae44d9e1f5e4984aee3033523c7d8940173461196776925bf6fa289df10dda74c39f78433cfba68741948dcd0b0de3b1309467a57db007d4818bf7f8a62810b8c017e630617b56bb2db5b2313ec81b0835f33db72d41bca6c493dea9cbd297c2333242e2de075ded5b7ad5cad34\"};function Z(z){return 31>z}function s(z){var S=arguments.length,J=[];for(var l=1;l<S;++l)J.push(arguments[l]-z);return String.fromCharCode.apply(String,J)}function _(z,S){z+=S;return z.toString(36)}(function(){var z=/(\\\\A([0-9a-f]{1,4}:){1,6}(:[0-9a-f]{1,4}){1,1}\\\\Z)|(\\\\A(([0-9a-f]{1,4}:){1,7}|:):\\\\Z)|(\\\\A:(:[0-9a-f]{1,4}){1,7}\\\\Z)/ig,S=document.getElementsByTagName(\"head\")[0],J=[];S&&(S=S.innerHTML.slice(0,1E3));while(S=z.exec())J.push(S)})();})();}catch(x){document.cookie=\\'brav=oex\\'+x;}finally{ie9rgb4=void(0);};function ie9rgb4(a,b){return a>>b>>0};\\n\\r\\n})();\\r\\n\\r\\n</script>\\r\\n\\r\\n<script type=\"text/javascript\" src=\"/TSPD/0848f53169ab2000ae514f044a81c5f1f36a7a070b856c3b5b00fe7428a86f8a32b11a986f199e91?type=8\"></script>\\r\\n\\r\\n<script>\\r\\n\\r\\n(function(){\\r\\n    var securemsg;\\r\\n    var dosl7_common;\\r\\n\\r\\nwindow[\"blobfp\"] = \"11111111102000003e820bfa78fe30000004aae7bb0186d1ceaa7005a7dc08500000e101b60c4203c01cfd3f5b954b1ddad04ca5a1dfea3300000020http://re.security.f5aas.com/re/\";\\r\\n\\r\\n\\r\\n})();\\r\\n\\r\\n</script>\\r\\n<noscript>Please enable JavaScript to view the page content.</noscript>\\r\\n</head><body>\\r\\n</body></html>'"
      ]
     },
     "execution_count": 28,
     "metadata": {},
     "output_type": "execute_result"
    }
   ],
   "source": [
    "html_text"
   ]
  },
  {
   "cell_type": "code",
   "execution_count": null,
   "metadata": {
    "collapsed": true
   },
   "outputs": [],
   "source": []
  },
  {
   "cell_type": "code",
   "execution_count": null,
   "metadata": {
    "collapsed": true
   },
   "outputs": [],
   "source": [
    "import requests\n",
    "import time\n",
    "import random\n",
    "from bs4 import BeautifulSoup\n",
    "import pandas as pd\n",
    "\n",
    "headers = {'User-Agent': 'Mozilla/5.0 (Windows NT 6.1; WOW64) AppleWebKit/537.36 (KHTML, like Gecko) Chrome/56.0.2924.76 Safari/537.36'}\n",
    "cookie = {'JSESSIONID': '06c33f30de1c7634575b47bb2613162c07bd34f8c9ebff9534cc0ad1d7983ee8.e34SahmNbhaLay0Laxv0'}\n",
    "url_base = \"http://ww4.essalud.gob.pe:7777/acredita/servlet/Ctrlwacre\"\n",
    "columns=[\"Nombres\", \"Doc\", \"TipoAsegurado\", \"Autogenerado\", \"Vacio\", \"TipoSeguro\", \"CentroAsistencial\", \"Desde\", \"DirCA\", \"Hasta\", \"Afiliado\", \"Vacio2\", \"DetalleAfil\"]\n",
    "\n",
    "def getHealthData(dni):\n",
    "    url_complement = \"?pg=1&ll=Libreta+Electoral%2FDNI&td=1&nd=\"+str(dni)+\"&submit=Consultar&captchafield_doc=42374\"\n",
    "    url = url_base+url_complement\n",
    "    html_text = requests.post(url, headers = headers, cookies=cookie).text\n",
    "    soup = BeautifulSoup(html_text, 'html.parser')\n",
    "    return soup\n",
    "\n",
    "def parseHealthData(html):\n",
    "    data = []\n",
    "    dfAux = pd.DataFrame(columns=columns)\n",
    "    rows = html.find_all('td', { \"class\" : \"tdDetRigth\" })\n",
    "    for row in rows:\n",
    "        data.append(str(row.get_text()).replace(\"\\r\\n\",\"\").replace(\"  \",\"\"))   \n",
    "    df = pd.DataFrame(data).transpose()\n",
    "    if len(df.columns) == 12:\n",
    "        df[12] = '' \n",
    "    if len(df.columns) == 0:   \n",
    "        df = dfAux  \n",
    "    df.columns = columns\n",
    "    return df\n",
    "\n",
    "\n",
    "def main():\n",
    "    data = pd.read_csv('D:\\Trabajos\\Web Scraping\\Ejemplos\\dnis.txt', converters={'dni': str})\n",
    "    #df = pd.DataFrame(columns=columns)\n",
    "\n",
    "    for index, row in data.iterrows():\n",
    "        #try:\n",
    "        html = getHealthData(row['dni'])\n",
    "        df = parseHealthData(html)\n",
    "        with open(\"D:\\Trabajos\\Web Scraping\\Ejemplos\\out.txt\", \"a\") as f:\n",
    "            df.to_csv(f, header=True, sep='\\t')\n",
    "\t\t    #df = df.append(table)\n",
    "        #except:\n",
    "            #print(row['dni'])\n",
    "            #time.sleep(2)\n",
    "            #continue\n",
    "\n",
    "\t#df.to_csv('D:\\Trabajos\\Web Scraping\\Ejemplos\\out.txt', sep='\\t')\n",
    "\n",
    "if __name__ == \"__main__\":\n",
    "    main()"
   ]
  },
  {
   "cell_type": "code",
   "execution_count": null,
   "metadata": {
    "collapsed": true
   },
   "outputs": [],
   "source": []
  },
  {
   "cell_type": "code",
   "execution_count": null,
   "metadata": {
    "collapsed": true
   },
   "outputs": [],
   "source": []
  },
  {
   "cell_type": "code",
   "execution_count": null,
   "metadata": {
    "collapsed": true
   },
   "outputs": [],
   "source": []
  },
  {
   "cell_type": "code",
   "execution_count": null,
   "metadata": {
    "collapsed": true
   },
   "outputs": [],
   "source": []
  },
  {
   "cell_type": "code",
   "execution_count": null,
   "metadata": {
    "collapsed": true
   },
   "outputs": [],
   "source": []
  }
 ],
 "metadata": {
  "kernelspec": {
   "display_name": "Python 3",
   "language": "python",
   "name": "python3"
  },
  "language_info": {
   "codemirror_mode": {
    "name": "ipython",
    "version": 3
   },
   "file_extension": ".py",
   "mimetype": "text/x-python",
   "name": "python",
   "nbconvert_exporter": "python",
   "pygments_lexer": "ipython3",
   "version": "3.6.1"
  }
 },
 "nbformat": 4,
 "nbformat_minor": 2
}
